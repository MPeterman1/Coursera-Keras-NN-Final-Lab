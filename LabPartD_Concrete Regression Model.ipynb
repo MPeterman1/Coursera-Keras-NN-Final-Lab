{
 "cells": [
  {
   "cell_type": "markdown",
   "metadata": {
    "button": false,
    "new_sheet": false,
    "run_control": {
     "read_only": false
    }
   },
   "source": [
    "## PART D.  Develop a Baseline Neural Network Model\n",
    "### Normalized Data\n",
    "#### Predicting Concrete Strength\n",
    "3 Hidden layers of 10 nodes, activation f: RelU, optimizer: adam and  \n",
    "loss: MSE. Train 50 epochs, 50 Iterations for MSE"
   ]
  },
  {
   "cell_type": "markdown",
   "metadata": {
    "button": false,
    "new_sheet": false,
    "run_control": {
     "read_only": false
    }
   },
   "source": [
    "##### Import functions required and the Keras objects library"
   ]
  },
  {
   "cell_type": "code",
   "execution_count": 4,
   "metadata": {
    "button": false,
    "new_sheet": false,
    "run_control": {
     "read_only": false
    }
   },
   "outputs": [
    {
     "name": "stdout",
     "output_type": "stream",
     "text": [
      "Ready, Set, Go!!!!!!!\n"
     ]
    }
   ],
   "source": [
    "import pandas as pd\n",
    "import numpy as np\n",
    "\n",
    "import keras\n",
    "from keras.models import Sequential\n",
    "from keras.layers import Dense\n",
    "\n",
    "from sklearn.model_selection import train_test_split\n",
    "from sklearn.metrics import mean_squared_error\n",
    "\n",
    "import matplotlib.pyplot as plt\n",
    "from matplotlib import pyplot\n",
    "\n",
    "print (\"Ready, Set, Go!!!!!!!\")"
   ]
  },
  {
   "cell_type": "markdown",
   "metadata": {
    "button": false,
    "new_sheet": false,
    "run_control": {
     "read_only": false
    }
   },
   "source": [
    " ### Build the neural network"
   ]
  },
  {
   "cell_type": "markdown",
   "metadata": {},
   "source": [
    "##### Import Data - preprocess"
   ]
  },
  {
   "cell_type": "code",
   "execution_count": 5,
   "metadata": {
    "button": false,
    "new_sheet": false,
    "run_control": {
     "read_only": false
    },
    "scrolled": true
   },
   "outputs": [
    {
     "data": {
      "text/html": [
       "<div>\n",
       "<style scoped>\n",
       "    .dataframe tbody tr th:only-of-type {\n",
       "        vertical-align: middle;\n",
       "    }\n",
       "\n",
       "    .dataframe tbody tr th {\n",
       "        vertical-align: top;\n",
       "    }\n",
       "\n",
       "    .dataframe thead th {\n",
       "        text-align: right;\n",
       "    }\n",
       "</style>\n",
       "<table border=\"1\" class=\"dataframe\">\n",
       "  <thead>\n",
       "    <tr style=\"text-align: right;\">\n",
       "      <th></th>\n",
       "      <th>Cement</th>\n",
       "      <th>Blast Furnace Slag</th>\n",
       "      <th>Fly Ash</th>\n",
       "      <th>Water</th>\n",
       "      <th>Superplasticizer</th>\n",
       "      <th>Coarse Aggregate</th>\n",
       "      <th>Fine Aggregate</th>\n",
       "      <th>Age</th>\n",
       "      <th>Strength</th>\n",
       "    </tr>\n",
       "  </thead>\n",
       "  <tbody>\n",
       "    <tr>\n",
       "      <th>1029</th>\n",
       "      <td>260.9</td>\n",
       "      <td>100.5</td>\n",
       "      <td>78.3</td>\n",
       "      <td>200.6</td>\n",
       "      <td>8.6</td>\n",
       "      <td>864.5</td>\n",
       "      <td>761.5</td>\n",
       "      <td>28</td>\n",
       "      <td>32.4</td>\n",
       "    </tr>\n",
       "  </tbody>\n",
       "</table>\n",
       "</div>"
      ],
      "text/plain": [
       "      Cement  Blast Furnace Slag  Fly Ash  Water  Superplasticizer  \\\n",
       "1029   260.9               100.5     78.3  200.6               8.6   \n",
       "\n",
       "      Coarse Aggregate  Fine Aggregate  Age  Strength  \n",
       "1029             864.5           761.5   28      32.4  "
      ]
     },
     "execution_count": 5,
     "metadata": {},
     "output_type": "execute_result"
    }
   ],
   "source": [
    "concrete_data = pd.read_csv('https://cocl.us/concrete_data')\n",
    "concrete_data.tail(1)"
   ]
  },
  {
   "cell_type": "code",
   "execution_count": 6,
   "metadata": {},
   "outputs": [],
   "source": [
    "concrete_data.isnull().sum(); #Check for null values"
   ]
  },
  {
   "cell_type": "markdown",
   "metadata": {
    "button": false,
    "new_sheet": false,
    "run_control": {
     "read_only": false
    }
   },
   "source": [
    "##### Define predictors and target"
   ]
  },
  {
   "cell_type": "code",
   "execution_count": 7,
   "metadata": {
    "button": false,
    "new_sheet": false,
    "run_control": {
     "read_only": false
    }
   },
   "outputs": [],
   "source": [
    "concrete_data_columns = concrete_data.columns\n",
    "#SET TARGET VARIABLE - STRENGTH\n",
    "target = concrete_data['Strength']\n",
    "#SET PREDICTORS TO BE ALL OTHER COLUMNS\n",
    "predictors = concrete_data[concrete_data_columns[concrete_data_columns != 'Strength']]"
   ]
  },
  {
   "cell_type": "markdown",
   "metadata": {},
   "source": [
    "##### Check data size"
   ]
  },
  {
   "cell_type": "code",
   "execution_count": 8,
   "metadata": {
    "button": false,
    "new_sheet": false,
    "run_control": {
     "read_only": false
    }
   },
   "outputs": [
    {
     "name": "stdout",
     "output_type": "stream",
     "text": [
      "\n",
      "Number of samples/rows : 1030\n"
     ]
    },
    {
     "data": {
      "text/plain": [
       "1029    32.4\n",
       "Name: Strength, dtype: float64"
      ]
     },
     "execution_count": 8,
     "metadata": {},
     "output_type": "execute_result"
    }
   ],
   "source": [
    "#TARGET - STRENGTH COLUMN\n",
    "shape = concrete_data.shape\n",
    "print('\\nNumber of samples/rows :', shape[0])\n",
    "target.tail(1)"
   ]
  },
  {
   "cell_type": "markdown",
   "metadata": {},
   "source": [
    "#### Define Target and Predictors"
   ]
  },
  {
   "cell_type": "markdown",
   "metadata": {
    "button": false,
    "new_sheet": false,
    "run_control": {
     "read_only": false
    }
   },
   "source": [
    "#### Normalize data by substracting the mean and dividing by the standard deviation."
   ]
  },
  {
   "cell_type": "code",
   "execution_count": 9,
   "metadata": {},
   "outputs": [
    {
     "data": {
      "text/plain": [
       "1028   -0.182450\n",
       "1029   -0.204598\n",
       "Name: Strength, dtype: float64"
      ]
     },
     "execution_count": 9,
     "metadata": {},
     "output_type": "execute_result"
    }
   ],
   "source": [
    "#NORMALIZE TARGET and PREDICTORS\n",
    "target_norm = (target - target.mean()) / target.std()\n",
    "predictors_norm = (predictors - predictors.mean()) / predictors.std()\n",
    "#predictors_norm.head() #check\n",
    "target_norm.tail(2) #check"
   ]
  },
  {
   "cell_type": "code",
   "execution_count": 10,
   "metadata": {
    "button": false,
    "new_sheet": false,
    "run_control": {
     "read_only": false
    }
   },
   "outputs": [
    {
     "data": {
      "text/html": [
       "<div>\n",
       "<style scoped>\n",
       "    .dataframe tbody tr th:only-of-type {\n",
       "        vertical-align: middle;\n",
       "    }\n",
       "\n",
       "    .dataframe tbody tr th {\n",
       "        vertical-align: top;\n",
       "    }\n",
       "\n",
       "    .dataframe thead th {\n",
       "        text-align: right;\n",
       "    }\n",
       "</style>\n",
       "<table border=\"1\" class=\"dataframe\">\n",
       "  <thead>\n",
       "    <tr style=\"text-align: right;\">\n",
       "      <th></th>\n",
       "      <th>Cement</th>\n",
       "      <th>Blast Furnace Slag</th>\n",
       "      <th>Fly Ash</th>\n",
       "      <th>Water</th>\n",
       "      <th>Superplasticizer</th>\n",
       "      <th>Coarse Aggregate</th>\n",
       "      <th>Fine Aggregate</th>\n",
       "      <th>Age</th>\n",
       "    </tr>\n",
       "  </thead>\n",
       "  <tbody>\n",
       "    <tr>\n",
       "      <th>1029</th>\n",
       "      <td>-0.193939</td>\n",
       "      <td>0.308349</td>\n",
       "      <td>0.376762</td>\n",
       "      <td>0.891286</td>\n",
       "      <td>0.400971</td>\n",
       "      <td>-1.394385</td>\n",
       "      <td>-0.150675</td>\n",
       "      <td>-0.279597</td>\n",
       "    </tr>\n",
       "  </tbody>\n",
       "</table>\n",
       "</div>"
      ],
      "text/plain": [
       "        Cement  Blast Furnace Slag   Fly Ash     Water  Superplasticizer  \\\n",
       "1029 -0.193939            0.308349  0.376762  0.891286          0.400971   \n",
       "\n",
       "      Coarse Aggregate  Fine Aggregate       Age  \n",
       "1029         -1.394385       -0.150675 -0.279597  "
      ]
     },
     "execution_count": 10,
     "metadata": {},
     "output_type": "execute_result"
    }
   ],
   "source": [
    "cols = predictors_norm.shape[1]\n",
    "predictors_norm.tail(1)"
   ]
  },
  {
   "cell_type": "markdown",
   "metadata": {},
   "source": [
    "#### Develop Baseline Regression Model"
   ]
  },
  {
   "cell_type": "code",
   "execution_count": 11,
   "metadata": {
    "button": false,
    "new_sheet": false,
    "run_control": {
     "read_only": false
    }
   },
   "outputs": [],
   "source": [
    "#SET  VARIABLES FOR THE BASELINE MODEL\n",
    "nodes = 10\n",
    "output = 1\n",
    "\n",
    "# define base regression model\n",
    "def regression_model(nodes):\n",
    "    # create model\n",
    "    model = Sequential()\n",
    "    model.add(Dense(nodes, activation='relu', input_shape=(cols,))) #3 hidden layers , 10 nodes, relu activation\n",
    "    model.add(Dense(nodes, activation='relu', input_shape=(cols,))) \n",
    "    model.add(Dense(nodes, activation='relu', input_shape=(cols,))) \n",
    "    model.add(Dense(output)) #Output Layer\n",
    "        # compile model\n",
    "    model.compile(optimizer='adam', loss='mean_squared_error')\n",
    "    return model"
   ]
  },
  {
   "cell_type": "markdown",
   "metadata": {},
   "source": [
    "### Split Train/Test Data - Step 1"
   ]
  },
  {
   "cell_type": "code",
   "execution_count": 12,
   "metadata": {},
   "outputs": [],
   "source": [
    "#SET SEED A FIXED VALUE FOR REPRODUCITY\n",
    "import numpy\n",
    "seed = 7\n",
    "numpy.random.seed(seed)\n",
    "\n",
    "# Split Train/Test Data\n",
    "X = predictors_norm\n",
    "y = target_norm\n",
    "X_train, X_test, y_train, y_test = train_test_split(X, y, test_size=0.33, random_state=seed)\n",
    "train_test_split(y, shuffle=True);"
   ]
  },
  {
   "cell_type": "markdown",
   "metadata": {},
   "source": [
    "## Train and Evaluate Model - Steps 2,3 and\n",
    "## Iterations - Step 4"
   ]
  },
  {
   "cell_type": "markdown",
   "metadata": {
    "button": false,
    "new_sheet": false,
    "run_control": {
     "read_only": false
    }
   },
   "source": [
    "#### Define and compile baseline regression model"
   ]
  },
  {
   "cell_type": "code",
   "execution_count": 13,
   "metadata": {},
   "outputs": [],
   "source": [
    "nodes = 10\n",
    "output = 1\n",
    "\n",
    "# define base regression model\n",
    "def regression_model(nodes):\n",
    "    # create model\n",
    "    model = Sequential()\n",
    "    model.add(Dense(nodes, activation='relu', input_shape=(cols,))) #1 hidden layer , 10 nodes, relu activation\n",
    "    model.add(Dense(nodes, activation='relu', input_shape=(cols,)))\n",
    "    model.add(Dense(nodes, activation='relu', input_shape=(cols,)))\n",
    "    model.add(Dense(output)) #Output Layer\n",
    "        # compile model\n",
    "    model.compile(optimizer='adam', loss='mean_squared_error')\n",
    "    return model"
   ]
  },
  {
   "cell_type": "markdown",
   "metadata": {},
   "source": [
    "#### Initialize the Model, Split Train/Test Data, Train Model, Evaluate and List MSE"
   ]
  },
  {
   "cell_type": "code",
   "execution_count": 14,
   "metadata": {},
   "outputs": [
    {
     "name": "stdout",
     "output_type": "stream",
     "text": [
      "Iteration 50 ..... Training is in progress.\n",
      "Training is complete for 50 iterations! \n"
     ]
    },
    {
     "data": {
      "text/plain": [
       "array([0.23667005, 0.25509108, 0.25061854, 0.19703881, 0.25222723,\n",
       "       0.22938672, 0.2652357 , 0.18028647, 0.25348918, 0.15014083,\n",
       "       0.22676539, 0.18891097, 0.20448873, 0.25223405, 0.24259713,\n",
       "       0.19829229, 0.22235364, 0.23640261, 0.25440972, 0.22512631,\n",
       "       0.33228632, 0.26250664, 0.23839146, 0.24669673, 0.21491202,\n",
       "       0.26399282, 0.21104409, 0.25093403, 0.30007584, 0.23753503,\n",
       "       0.17762946, 0.19407217, 0.20412607, 0.17904447, 0.25919805,\n",
       "       0.27057356, 0.21678946, 0.24054412, 0.21760129, 0.22731438,\n",
       "       0.18992342, 0.2314788 , 0.21637192, 0.22591628, 0.29566132,\n",
       "       0.29392569, 0.21634749, 0.19111817, 0.23875315, 0.23790014])"
      ]
     },
     "execution_count": 14,
     "metadata": {},
     "output_type": "execute_result"
    }
   ],
   "source": [
    "#USED TO MONITOR OUTPUT IN A SINGLE LINE - CLOEAR AND OVERWRITE\n",
    "from IPython.display import display, clear_output\n",
    "\n",
    "#SET VARIABLES FOR THE ASSIGNMENTS THAT WILL CHANGE IN ASSIGNMENTS\n",
    "epochs = 50\n",
    "b = 32\n",
    "Dlist = []\n",
    "\n",
    "#SET SEED A FIXED VALUE FOR REPRODUCITY\n",
    "import numpy\n",
    "seed = 7\n",
    "numpy.random.seed(seed)\n",
    "\n",
    "#SET THE PROGRESS COUNTDOWN n\n",
    "n = 0\n",
    "iterations = 50\n",
    "i = 0\n",
    "\n",
    "# HERE WE GO!\n",
    "for i in range(iterations):\n",
    "    \n",
    "    #To monitor will set up a countER\n",
    "    clear_output(wait=True)            # Print and \"overwrite\" all print statements sequentially\n",
    "    n = i + 1                          # Counter less the index for report\n",
    "    print(\"Iteration {} \".format(n) + \"..... Training is in progress.\")\n",
    "        \n",
    "#Initialize the model\n",
    "    model = regression_model(nodes)\n",
    "\n",
    "# Split Train/Test Data\n",
    "    X = predictors_norm\n",
    "    y = target_norm\n",
    "    X_train, X_test, y_train, y_test = train_test_split(X, y, test_size=0.33, random_state=seed)\n",
    "    train_test_split(y, shuffle=True)\n",
    "\n",
    "# Train / fit the model\n",
    "    model.fit(X, y, validation_split=0.3, epochs=epochs, batch_size=b, verbose=0, shuffle=True)\n",
    "    prediction = model.predict(X)\n",
    "    prediction\n",
    "        \n",
    "# Calculate MSE of EACH iteration\n",
    "    mse = mean_squared_error(target_norm,prediction)\n",
    "\n",
    "# Create a list of MSE's, add each one to a list\n",
    "    Dlist.append(mse)\n",
    "    \n",
    "result = np.array(Dlist)\n",
    "print (\"Training is complete for {} iterations! \".format(n))\n",
    "result  "
   ]
  },
  {
   "cell_type": "markdown",
   "metadata": {},
   "source": [
    "### D5. Final Report\n",
    "Calculate and print mean and standard deviation of the mean squared errors of each iteration."
   ]
  },
  {
   "cell_type": "code",
   "execution_count": 15,
   "metadata": {},
   "outputs": [
    {
     "name": "stdout",
     "output_type": "stream",
     "text": [
      "FINAL REPORT:\n",
      "MSE Mean: 0.232\n",
      "MSE Standard Deviation: 0.034\n"
     ]
    }
   ],
   "source": [
    "mse_mean = (numpy.mean(result))\n",
    "mse_stddev = (numpy.std(Dlist))\n",
    "\n",
    "print(\"FINAL REPORT:\")\n",
    "print(\"MSE Mean: %.3f\" % (mse_mean))\n",
    "print(\"MSE Standard Deviation: %.3f\" % (mse_stddev))"
   ]
  },
  {
   "attachments": {
    "PartB-Report.PNG": {
     "image/png": "[encoded data removed]"
    }
   },
   "cell_type": "markdown",
   "metadata": {},
   "source": [
    "### Part 5 Observations\n",
    "How does the final mean squared errors compare to that from Part B?  \n",
    "Part D model includes 2 more hidden layers than Part B, Improvement is a 14.91% (percentage decrease). Part B below, shown for reference;   \n",
    "![PartB-Report.PNG](attachment:PartB-Report.PNG)"
   ]
  },
  {
   "cell_type": "markdown",
   "metadata": {},
   "source": [
    "#### *Optional - Data Visualization*"
   ]
  },
  {
   "cell_type": "code",
   "execution_count": 16,
   "metadata": {},
   "outputs": [
    {
     "data": {
      "image/png": "[encoded data removed]",
      "text/plain": [
       "<Figure size 432x288 with 1 Axes>"
      ]
     },
     "metadata": {
      "needs_background": "light"
     },
     "output_type": "display_data"
    }
   ],
   "source": [
    "import matplotlib.pyplot as plt\n",
    "from matplotlib import pyplot\n",
    "%matplotlib inline\n",
    "\n",
    "plt.plot(Dlist, label= 'normalized data', color='orange')\n",
    "plt.ylabel('MSE')\n",
    "plt.xlabel('Iterations')\n",
    "plt.title('MSE (50 epochs/50 iterations)')\n",
    "plt.legend(loc = 'best')\n",
    "pyplot.savefig('fig-msePartD.png')"
   ]
  },
  {
   "attachments": {
    "fig-msePARTB.png": {
     "image/png": "[encoded data removed]"
    }
   },
   "cell_type": "markdown",
   "metadata": {},
   "source": [
    "Part B shown for reference;  \n",
    "![fig-msePARTB.png](attachment:fig-msePARTB.png)"
   ]
  },
  {
   "cell_type": "code",
   "execution_count": 17,
   "metadata": {},
   "outputs": [
    {
     "data": {
      "image/png": "[encoded data removed]",
      "text/plain": [
       "<Figure size 432x288 with 1 Axes>"
      ]
     },
     "metadata": {
      "needs_background": "light"
     },
     "output_type": "display_data"
    }
   ],
   "source": [
    "pyplot.hist(result, color='orange')\n",
    "pyplot.savefig('fig-msePartDhist.png')"
   ]
  },
  {
   "attachments": {
    "fig-msePartBhist.png": {
     "image/png": "[encoded data removed]"
    }
   },
   "cell_type": "markdown",
   "metadata": {},
   "source": [
    "Part B Histogram shown below for reference:  \n",
    "![fig-msePartBhist.png](attachment:fig-msePartBhist.png)"
   ]
  },
  {
   "cell_type": "code",
   "execution_count": null,
   "metadata": {},
   "outputs": [],
   "source": []
  }
 ],
 "metadata": {
  "kernelspec": {
   "display_name": "Python",
   "language": "python",
   "name": "conda-env-python-py"
  },
  "language_info": {
   "codemirror_mode": {
    "name": "ipython",
    "version": 3
   },
   "file_extension": ".py",
   "mimetype": "text/x-python",
   "name": "python",
   "nbconvert_exporter": "python",
   "pygments_lexer": "ipython3",
   "version": "3.6.10"
  }
 },
 "nbformat": 4,
 "nbformat_minor": 4
}
