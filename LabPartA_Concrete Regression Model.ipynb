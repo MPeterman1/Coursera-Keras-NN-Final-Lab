{
 "cells": [
  {
   "cell_type": "markdown",
   "metadata": {
    "button": false,
    "new_sheet": false,
    "run_control": {
     "read_only": false
    }
   },
   "source": [
    "## PART A.  Develop a Baseline Neural Network Model\n",
    "#### Predicting Concrete Strength\n",
    "Hidden layer of 10 nodes, activation f: RelU,  \n",
    "optimizer: adam and loss: MSE\n",
    "Train 50 epochs, 50 Iterations for MSE"
   ]
  },
  {
   "cell_type": "markdown",
   "metadata": {
    "button": false,
    "new_sheet": false,
    "run_control": {
     "read_only": false
    }
   },
   "source": [
    "##### Import functions required and the Keras objects library"
   ]
  },
  {
   "cell_type": "code",
   "execution_count": 18,
   "metadata": {
    "button": false,
    "new_sheet": false,
    "run_control": {
     "read_only": false
    }
   },
   "outputs": [
    {
     "name": "stdout",
     "output_type": "stream",
     "text": [
      "Ready, Set, Go!!!!!!!\n"
     ]
    }
   ],
   "source": [
    "import pandas as pd\n",
    "import numpy as np\n",
    "\n",
    "import keras\n",
    "from keras.models import Sequential\n",
    "from keras.layers import Dense\n",
    "\n",
    "from sklearn.model_selection import train_test_split\n",
    "from sklearn.metrics import mean_squared_error\n",
    "\n",
    "import matplotlib.pyplot as plt\n",
    "print (\"Ready, Set, Go!!!!!!!\")"
   ]
  },
  {
   "cell_type": "markdown",
   "metadata": {
    "button": false,
    "new_sheet": false,
    "run_control": {
     "read_only": false
    }
   },
   "source": [
    " ### Build the neural network"
   ]
  },
  {
   "cell_type": "markdown",
   "metadata": {},
   "source": [
    "##### PreProcess Data"
   ]
  },
  {
   "cell_type": "code",
   "execution_count": 5,
   "metadata": {
    "button": false,
    "new_sheet": false,
    "run_control": {
     "read_only": false
    },
    "scrolled": true
   },
   "outputs": [
    {
     "data": {
      "text/html": [
       "<div>\n",
       "<style scoped>\n",
       "    .dataframe tbody tr th:only-of-type {\n",
       "        vertical-align: middle;\n",
       "    }\n",
       "\n",
       "    .dataframe tbody tr th {\n",
       "        vertical-align: top;\n",
       "    }\n",
       "\n",
       "    .dataframe thead th {\n",
       "        text-align: right;\n",
       "    }\n",
       "</style>\n",
       "<table border=\"1\" class=\"dataframe\">\n",
       "  <thead>\n",
       "    <tr style=\"text-align: right;\">\n",
       "      <th></th>\n",
       "      <th>Cement</th>\n",
       "      <th>Blast Furnace Slag</th>\n",
       "      <th>Fly Ash</th>\n",
       "      <th>Water</th>\n",
       "      <th>Superplasticizer</th>\n",
       "      <th>Coarse Aggregate</th>\n",
       "      <th>Fine Aggregate</th>\n",
       "      <th>Age</th>\n",
       "      <th>Strength</th>\n",
       "    </tr>\n",
       "  </thead>\n",
       "  <tbody>\n",
       "    <tr>\n",
       "      <th>1029</th>\n",
       "      <td>260.9</td>\n",
       "      <td>100.5</td>\n",
       "      <td>78.3</td>\n",
       "      <td>200.6</td>\n",
       "      <td>8.6</td>\n",
       "      <td>864.5</td>\n",
       "      <td>761.5</td>\n",
       "      <td>28</td>\n",
       "      <td>32.4</td>\n",
       "    </tr>\n",
       "  </tbody>\n",
       "</table>\n",
       "</div>"
      ],
      "text/plain": [
       "      Cement  Blast Furnace Slag  Fly Ash  Water  Superplasticizer  \\\n",
       "1029   260.9               100.5     78.3  200.6               8.6   \n",
       "\n",
       "      Coarse Aggregate  Fine Aggregate  Age  Strength  \n",
       "1029             864.5           761.5   28      32.4  "
      ]
     },
     "execution_count": 5,
     "metadata": {},
     "output_type": "execute_result"
    }
   ],
   "source": [
    "concrete_data = pd.read_csv('https://cocl.us/concrete_data')\n",
    "concrete_data.tail(1)"
   ]
  },
  {
   "cell_type": "code",
   "execution_count": 6,
   "metadata": {},
   "outputs": [],
   "source": [
    "concrete_data.isnull().sum(); #Check for null values"
   ]
  },
  {
   "cell_type": "markdown",
   "metadata": {
    "button": false,
    "new_sheet": false,
    "run_control": {
     "read_only": false
    }
   },
   "source": [
    "##### Define predictors and target"
   ]
  },
  {
   "cell_type": "code",
   "execution_count": 7,
   "metadata": {
    "button": false,
    "new_sheet": false,
    "run_control": {
     "read_only": false
    }
   },
   "outputs": [],
   "source": [
    "concrete_data_columns = concrete_data.columns\n",
    "#SET TARGET VARIABLE - STRENGTH\n",
    "target = concrete_data['Strength']\n",
    "#SET PREDICTORS TO BE ALL OTHER COLUMNS\n",
    "predictors = concrete_data[concrete_data_columns[concrete_data_columns != 'Strength']]"
   ]
  },
  {
   "cell_type": "code",
   "execution_count": 8,
   "metadata": {
    "button": false,
    "new_sheet": false,
    "run_control": {
     "read_only": false
    }
   },
   "outputs": [
    {
     "data": {
      "text/html": [
       "<div>\n",
       "<style scoped>\n",
       "    .dataframe tbody tr th:only-of-type {\n",
       "        vertical-align: middle;\n",
       "    }\n",
       "\n",
       "    .dataframe tbody tr th {\n",
       "        vertical-align: top;\n",
       "    }\n",
       "\n",
       "    .dataframe thead th {\n",
       "        text-align: right;\n",
       "    }\n",
       "</style>\n",
       "<table border=\"1\" class=\"dataframe\">\n",
       "  <thead>\n",
       "    <tr style=\"text-align: right;\">\n",
       "      <th></th>\n",
       "      <th>Cement</th>\n",
       "      <th>Blast Furnace Slag</th>\n",
       "      <th>Fly Ash</th>\n",
       "      <th>Water</th>\n",
       "      <th>Superplasticizer</th>\n",
       "      <th>Coarse Aggregate</th>\n",
       "      <th>Fine Aggregate</th>\n",
       "      <th>Age</th>\n",
       "    </tr>\n",
       "  </thead>\n",
       "  <tbody>\n",
       "    <tr>\n",
       "      <th>1029</th>\n",
       "      <td>260.9</td>\n",
       "      <td>100.5</td>\n",
       "      <td>78.3</td>\n",
       "      <td>200.6</td>\n",
       "      <td>8.6</td>\n",
       "      <td>864.5</td>\n",
       "      <td>761.5</td>\n",
       "      <td>28</td>\n",
       "    </tr>\n",
       "  </tbody>\n",
       "</table>\n",
       "</div>"
      ],
      "text/plain": [
       "      Cement  Blast Furnace Slag  Fly Ash  Water  Superplasticizer  \\\n",
       "1029   260.9               100.5     78.3  200.6               8.6   \n",
       "\n",
       "      Coarse Aggregate  Fine Aggregate  Age  \n",
       "1029             864.5           761.5   28  "
      ]
     },
     "execution_count": 8,
     "metadata": {},
     "output_type": "execute_result"
    }
   ],
   "source": [
    "cols = predictors.shape[1]\n",
    "predictors.tail(1)"
   ]
  },
  {
   "cell_type": "markdown",
   "metadata": {},
   "source": [
    "#### Check data size"
   ]
  },
  {
   "cell_type": "code",
   "execution_count": 9,
   "metadata": {
    "button": false,
    "new_sheet": false,
    "run_control": {
     "read_only": false
    }
   },
   "outputs": [
    {
     "name": "stdout",
     "output_type": "stream",
     "text": [
      "\n",
      "Number of samples/rows : 1030\n"
     ]
    },
    {
     "data": {
      "text/plain": [
       "1029    32.4\n",
       "Name: Strength, dtype: float64"
      ]
     },
     "execution_count": 9,
     "metadata": {},
     "output_type": "execute_result"
    }
   ],
   "source": [
    "#TARGET - STRENGTH COLUMN\n",
    "shape = concrete_data.shape\n",
    "print('\\nNumber of samples/rows :', shape[0])\n",
    "target.tail(1)"
   ]
  },
  {
   "cell_type": "markdown",
   "metadata": {},
   "source": [
    "#### Develop Baseline Regression Model"
   ]
  },
  {
   "cell_type": "code",
   "execution_count": 10,
   "metadata": {
    "button": false,
    "new_sheet": false,
    "run_control": {
     "read_only": false
    }
   },
   "outputs": [],
   "source": [
    "#SET  VARIABLES FOR THE BASELINE MODEL\n",
    "nodes = 10\n",
    "output = 1\n",
    "\n",
    "# define base regression model\n",
    "def regression_model(nodes):\n",
    "    # create model\n",
    "    model = Sequential()\n",
    "    model.add(Dense(nodes, activation='relu', input_shape=(cols,))) #1 hidden layer , 10 nodes, relu activation\n",
    "    model.add(Dense(output)) #Output Layer\n",
    "        # compile model\n",
    "    model.compile(optimizer='adam', loss='mean_squared_error')\n",
    "    return model"
   ]
  },
  {
   "cell_type": "markdown",
   "metadata": {},
   "source": [
    "### Split Train/Test Data - Step 1"
   ]
  },
  {
   "cell_type": "code",
   "execution_count": 11,
   "metadata": {},
   "outputs": [
    {
     "data": {
      "text/plain": [
       "[344    17.57\n",
       " 316    33.94\n",
       " 556    32.63\n",
       " 680    17.28\n",
       " 507    62.05\n",
       "        ...  \n",
       " 919    25.10\n",
       " 211    24.48\n",
       " 502    33.49\n",
       " 537    43.94\n",
       " 175    79.30\n",
       " Name: Strength, Length: 772, dtype: float64,\n",
       " 204    12.47\n",
       " 294     7.40\n",
       " 709    32.10\n",
       " 716    10.09\n",
       " 60     54.38\n",
       "        ...  \n",
       " 242    31.35\n",
       " 715    39.66\n",
       " 435    41.20\n",
       " 758    22.53\n",
       " 713     9.69\n",
       " Name: Strength, Length: 258, dtype: float64]"
      ]
     },
     "execution_count": 11,
     "metadata": {},
     "output_type": "execute_result"
    }
   ],
   "source": [
    "#SET SEED A FIXED VALUE FOR REPRODUCITY\n",
    "import numpy\n",
    "seed = 7\n",
    "numpy.random.seed(seed)\n",
    "\n",
    "# Split Train/Test Data\n",
    "X = predictors\n",
    "y = target\n",
    "X_train, X_test, y_train, y_test = train_test_split(X, y, test_size=0.33, random_state=seed)\n",
    "train_test_split(y, shuffle=True)"
   ]
  },
  {
   "cell_type": "markdown",
   "metadata": {},
   "source": [
    "## Train and Evaluate Model - Steps 2,3 and\n",
    "## Iterations - Step 4"
   ]
  },
  {
   "cell_type": "markdown",
   "metadata": {
    "button": false,
    "new_sheet": false,
    "run_control": {
     "read_only": false
    }
   },
   "source": [
    "#### Define and compile baseline regression model"
   ]
  },
  {
   "cell_type": "code",
   "execution_count": 12,
   "metadata": {},
   "outputs": [],
   "source": [
    "nodes = 10\n",
    "output = 1\n",
    "\n",
    "# define base regression model\n",
    "def regression_model(nodes):\n",
    "    # create model\n",
    "    model = Sequential()\n",
    "    model.add(Dense(nodes, activation='relu', input_shape=(cols,))) #1 hidden layer , 10 nodes, relu activation\n",
    "    model.add(Dense(output)) #Output Layer\n",
    "    # compile model\n",
    "    model.compile(optimizer='adam', loss='mean_squared_error')\n",
    "    return model"
   ]
  },
  {
   "cell_type": "markdown",
   "metadata": {},
   "source": [
    "#### Initialize the Model, Split Train/Test Data, Train Model, Evaluate and List MSE"
   ]
  },
  {
   "cell_type": "code",
   "execution_count": 13,
   "metadata": {},
   "outputs": [
    {
     "name": "stdout",
     "output_type": "stream",
     "text": [
      "Iteration 50 ..... Training is in progress.\n",
      "Training is complete for 50 iterations! \n"
     ]
    },
    {
     "data": {
      "text/plain": [
       "array([ 279.17399845,  247.88960868,  720.39089655,  488.78942665,\n",
       "        232.55899543,  395.27904562,  194.86941219,  899.29730395,\n",
       "        200.24644277,  655.74358927,  156.90323947, 1052.94218726,\n",
       "        115.82458151,   97.24409707,  129.31321883,  192.35898692,\n",
       "        155.38294896,  117.24321585,  502.33272481,  126.85534042,\n",
       "        399.12747805,  125.27355876,  160.51637736,  146.34681286,\n",
       "        290.46017015,  453.24180858,  383.66757451,  118.00036362,\n",
       "        189.62244927,  117.3214127 ,  233.47306803,  160.6338745 ,\n",
       "        166.2397721 ,  349.05771996,  526.60666381,  294.585486  ,\n",
       "        164.44589308,  948.8524682 ,  162.84994972,  144.33381608,\n",
       "        110.83657758,  459.57917812,  480.58386957,  121.57759616,\n",
       "        119.31626374,  133.49563342,   84.81599138,  167.36786927,\n",
       "        130.43637176,  211.05154393])"
      ]
     },
     "execution_count": 13,
     "metadata": {},
     "output_type": "execute_result"
    }
   ],
   "source": [
    "#USED TO MONITOR OUTPUT IN A SINGLE LINE\n",
    "from IPython.display import display, clear_output\n",
    "\n",
    "#SET VARIABLES FOR THE ASSIGNMENTS THAT WILL CHANGE IN ASSIGNMENTS\n",
    "epochs = 50\n",
    "b = 32\n",
    "Alist = []\n",
    "\n",
    "#SET SEED A FIXED VALUE FOR REPRODUCITY\n",
    "import numpy\n",
    "seed = 7\n",
    "numpy.random.seed(seed)\n",
    "\n",
    "#SET THE PROGRESS COUNTDOWN n\n",
    "n = 0\n",
    "iterations = 50\n",
    "i = 0\n",
    "\n",
    "# HERE WE GO!\n",
    "for i in range(iterations):\n",
    "    \n",
    "    #To monitor will set up a countER\n",
    "    clear_output(wait=True)            # Print and \"overwrite\" all print statements sequentially\n",
    "    n = i + 1                          # Counter less the index for report\n",
    "    print(\"Iteration {} \".format(n) + \"..... Training is in progress.\")\n",
    "        \n",
    "#Initialize the model\n",
    "    model = regression_model(nodes)\n",
    "\n",
    "# Split Train/Test Data\n",
    "    X = predictors\n",
    "    y = target\n",
    "    X_train, X_test, y_train, y_test = train_test_split(X, y, test_size=0.33, random_state=seed)\n",
    "    train_test_split(y, shuffle=True)\n",
    "\n",
    "# Train / fit the model\n",
    "    model.fit(X, y, validation_split=0.3, epochs=epochs, batch_size=b, verbose=0, shuffle=True)\n",
    "    prediction = model.predict(X)\n",
    "    prediction\n",
    "        \n",
    "# Calculate MSE of EACH iteration\n",
    "    mse = mean_squared_error(target,prediction)\n",
    "\n",
    "# Create a list of MSE's, add each one to a list\n",
    "    Alist.append(mse)\n",
    "    \n",
    "result = np.array(Alist) #array needed for numpy evaluation\n",
    "print (\"Training is complete for {} iterations! \".format(n))\n",
    "result"
   ]
  },
  {
   "cell_type": "markdown",
   "metadata": {},
   "source": [
    "### A5. Final Report\n",
    "Calculate and print mean and standard deviation of the mean squared errors of each iteration  "
   ]
  },
  {
   "cell_type": "code",
   "execution_count": 20,
   "metadata": {},
   "outputs": [
    {
     "name": "stdout",
     "output_type": "stream",
     "text": [
      "FINAL REPORT:\n",
      "MSE Mean: 290.287\n",
      "MSE Standard Deviation: 228.769\n"
     ]
    }
   ],
   "source": [
    "#result_mse = (numpy.mse(result))\n",
    "mse_mean = (numpy.mean(result))\n",
    "mse_stddev = (numpy.std(Alist))\n",
    "\n",
    "print(\"FINAL REPORT:\")\n",
    "print(\"MSE Mean: %.3f\" % (mse_mean))\n",
    "print(\"MSE Standard Deviation: %.3f\" % (mse_stddev))"
   ]
  },
  {
   "cell_type": "markdown",
   "metadata": {},
   "source": [
    "### Part A Observations\n",
    "Mean squared errors were very erratic and high. \n",
    "At around 12 iterations they had a steep drop and continued to have improved accuracy although  \n",
    "very high error rate"
   ]
  },
  {
   "cell_type": "code",
   "execution_count": 25,
   "metadata": {},
   "outputs": [
    {
     "data": {
      "image/png": "[encoded data removed]",
      "text/plain": [
       "<Figure size 432x288 with 1 Axes>"
      ]
     },
     "metadata": {
      "needs_background": "light"
     },
     "output_type": "display_data"
    },
    {
     "data": {
      "text/plain": [
       "<Figure size 432x288 with 0 Axes>"
      ]
     },
     "metadata": {},
     "output_type": "display_data"
    }
   ],
   "source": [
    "import matplotlib.pyplot as plt\n",
    "from matplotlib import pyplot\n",
    "from matplotlib.backends.backend_pdf import PdfPages\n",
    "pdf = PdfPages('fig-msePartB.pdf')\n",
    "\n",
    "fig1 = plt.figure()\n",
    "plt.plot(Alist, label= 'non-normalized data', color= 'red')\n",
    "plt.ylabel('MSE')\n",
    "plt.xlabel('Iterations')\n",
    "plt.title('MSE (50 epochs/50 iterations)')\n",
    "plt.legend(loc = 'best')\n",
    "plt.show()\n",
    "pdf.savefig(fig1)\n",
    "plt.savefig('fig-msePartA.png')"
   ]
  },
  {
   "cell_type": "code",
   "execution_count": 29,
   "metadata": {},
   "outputs": [
    {
     "data": {
      "image/png": "[encoded data removed]",
      "text/plain": [
       "<Figure size 432x288 with 1 Axes>"
      ]
     },
     "metadata": {
      "needs_background": "light"
     },
     "output_type": "display_data"
    },
    {
     "data": {
      "text/plain": [
       "<Figure size 432x288 with 0 Axes>"
      ]
     },
     "metadata": {},
     "output_type": "display_data"
    }
   ],
   "source": [
    "pyplot.hist(result, color='red')\n",
    "pyplot.show()\n",
    "plt.savefig('fig-msePartA-hist.png')"
   ]
  },
  {
   "cell_type": "code",
   "execution_count": null,
   "metadata": {},
   "outputs": [],
   "source": []
  }
 ],
 "metadata": {
  "kernelspec": {
   "display_name": "Python",
   "language": "python",
   "name": "conda-env-python-py"
  },
  "language_info": {
   "codemirror_mode": {
    "name": "ipython",
    "version": 3
   },
   "file_extension": ".py",
   "mimetype": "text/x-python",
   "name": "python",
   "nbconvert_exporter": "python",
   "pygments_lexer": "ipython3",
   "version": "3.6.10"
  }
 },
 "nbformat": 4,
 "nbformat_minor": 4
}
