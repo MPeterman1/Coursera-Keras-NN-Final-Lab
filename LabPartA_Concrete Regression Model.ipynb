{
 "cells": [
  {
   "cell_type": "markdown",
   "metadata": {
    "button": false,
    "new_sheet": false,
    "run_control": {
     "read_only": false
    }
   },
   "source": [
    "## PART A.  Develop a Baseline Neural Network Model\n",
    "#### Predicting Concrete Strength\n",
    "Hidden layer of 10 nodes, activation f: RelU,  \n",
    "optimizer: adam and loss: MSE\n",
    "Train 50 epochs, 50 Iterations for MSE"
   ]
  },
  {
   "cell_type": "markdown",
   "metadata": {
    "button": false,
    "new_sheet": false,
    "run_control": {
     "read_only": false
    }
   },
   "source": [
    "##### Import functions required and the Keras objects library"
   ]
  },
  {
   "cell_type": "code",
   "execution_count": 4,
   "metadata": {
    "button": false,
    "new_sheet": false,
    "run_control": {
     "read_only": false
    }
   },
   "outputs": [
    {
     "name": "stdout",
     "output_type": "stream",
     "text": [
      "Ready, Set, Go!!!!!!!\n"
     ]
    }
   ],
   "source": [
    "import pandas as pd\n",
    "import numpy as np\n",
    "\n",
    "import keras\n",
    "from keras.models import Sequential\n",
    "from keras.layers import Dense\n",
    "\n",
    "from sklearn.model_selection import train_test_split\n",
    "from sklearn.metrics import mean_squared_error\n",
    "\n",
    "import matplotlib.pyplot as plt\n",
    "print (\"Ready, Set, Go!!!!!!!\")"
   ]
  },
  {
   "cell_type": "markdown",
   "metadata": {
    "button": false,
    "new_sheet": false,
    "run_control": {
     "read_only": false
    }
   },
   "source": [
    " ### Build the neural network"
   ]
  },
  {
   "cell_type": "markdown",
   "metadata": {},
   "source": [
    "##### PreProcess Data"
   ]
  },
  {
   "cell_type": "code",
   "execution_count": 5,
   "metadata": {
    "button": false,
    "new_sheet": false,
    "run_control": {
     "read_only": false
    },
    "scrolled": true
   },
   "outputs": [
    {
     "data": {
      "text/html": [
       "<div>\n",
       "<style scoped>\n",
       "    .dataframe tbody tr th:only-of-type {\n",
       "        vertical-align: middle;\n",
       "    }\n",
       "\n",
       "    .dataframe tbody tr th {\n",
       "        vertical-align: top;\n",
       "    }\n",
       "\n",
       "    .dataframe thead th {\n",
       "        text-align: right;\n",
       "    }\n",
       "</style>\n",
       "<table border=\"1\" class=\"dataframe\">\n",
       "  <thead>\n",
       "    <tr style=\"text-align: right;\">\n",
       "      <th></th>\n",
       "      <th>Cement</th>\n",
       "      <th>Blast Furnace Slag</th>\n",
       "      <th>Fly Ash</th>\n",
       "      <th>Water</th>\n",
       "      <th>Superplasticizer</th>\n",
       "      <th>Coarse Aggregate</th>\n",
       "      <th>Fine Aggregate</th>\n",
       "      <th>Age</th>\n",
       "      <th>Strength</th>\n",
       "    </tr>\n",
       "  </thead>\n",
       "  <tbody>\n",
       "    <tr>\n",
       "      <th>1029</th>\n",
       "      <td>260.9</td>\n",
       "      <td>100.5</td>\n",
       "      <td>78.3</td>\n",
       "      <td>200.6</td>\n",
       "      <td>8.6</td>\n",
       "      <td>864.5</td>\n",
       "      <td>761.5</td>\n",
       "      <td>28</td>\n",
       "      <td>32.4</td>\n",
       "    </tr>\n",
       "  </tbody>\n",
       "</table>\n",
       "</div>"
      ],
      "text/plain": [
       "      Cement  Blast Furnace Slag  Fly Ash  Water  Superplasticizer  \\\n",
       "1029   260.9               100.5     78.3  200.6               8.6   \n",
       "\n",
       "      Coarse Aggregate  Fine Aggregate  Age  Strength  \n",
       "1029             864.5           761.5   28      32.4  "
      ]
     },
     "execution_count": 5,
     "metadata": {},
     "output_type": "execute_result"
    }
   ],
   "source": [
    "concrete_data = pd.read_csv('https://cocl.us/concrete_data')\n",
    "concrete_data.tail(1)"
   ]
  },
  {
   "cell_type": "code",
   "execution_count": 6,
   "metadata": {},
   "outputs": [],
   "source": [
    "concrete_data.isnull().sum(); #Check for null values"
   ]
  },
  {
   "cell_type": "markdown",
   "metadata": {
    "button": false,
    "new_sheet": false,
    "run_control": {
     "read_only": false
    }
   },
   "source": [
    "##### Define predictors and target"
   ]
  },
  {
   "cell_type": "code",
   "execution_count": 7,
   "metadata": {
    "button": false,
    "new_sheet": false,
    "run_control": {
     "read_only": false
    }
   },
   "outputs": [],
   "source": [
    "concrete_data_columns = concrete_data.columns\n",
    "#SET TARGET VARIABLE - STRENGTH\n",
    "target = concrete_data['Strength']\n",
    "#SET PREDICTORS TO BE ALL OTHER COLUMNS\n",
    "predictors = concrete_data[concrete_data_columns[concrete_data_columns != 'Strength']]"
   ]
  },
  {
   "cell_type": "code",
   "execution_count": 8,
   "metadata": {
    "button": false,
    "new_sheet": false,
    "run_control": {
     "read_only": false
    }
   },
   "outputs": [
    {
     "data": {
      "text/html": [
       "<div>\n",
       "<style scoped>\n",
       "    .dataframe tbody tr th:only-of-type {\n",
       "        vertical-align: middle;\n",
       "    }\n",
       "\n",
       "    .dataframe tbody tr th {\n",
       "        vertical-align: top;\n",
       "    }\n",
       "\n",
       "    .dataframe thead th {\n",
       "        text-align: right;\n",
       "    }\n",
       "</style>\n",
       "<table border=\"1\" class=\"dataframe\">\n",
       "  <thead>\n",
       "    <tr style=\"text-align: right;\">\n",
       "      <th></th>\n",
       "      <th>Cement</th>\n",
       "      <th>Blast Furnace Slag</th>\n",
       "      <th>Fly Ash</th>\n",
       "      <th>Water</th>\n",
       "      <th>Superplasticizer</th>\n",
       "      <th>Coarse Aggregate</th>\n",
       "      <th>Fine Aggregate</th>\n",
       "      <th>Age</th>\n",
       "    </tr>\n",
       "  </thead>\n",
       "  <tbody>\n",
       "    <tr>\n",
       "      <th>1029</th>\n",
       "      <td>260.9</td>\n",
       "      <td>100.5</td>\n",
       "      <td>78.3</td>\n",
       "      <td>200.6</td>\n",
       "      <td>8.6</td>\n",
       "      <td>864.5</td>\n",
       "      <td>761.5</td>\n",
       "      <td>28</td>\n",
       "    </tr>\n",
       "  </tbody>\n",
       "</table>\n",
       "</div>"
      ],
      "text/plain": [
       "      Cement  Blast Furnace Slag  Fly Ash  Water  Superplasticizer  \\\n",
       "1029   260.9               100.5     78.3  200.6               8.6   \n",
       "\n",
       "      Coarse Aggregate  Fine Aggregate  Age  \n",
       "1029             864.5           761.5   28  "
      ]
     },
     "execution_count": 8,
     "metadata": {},
     "output_type": "execute_result"
    }
   ],
   "source": [
    "cols = predictors.shape[1]\n",
    "predictors.tail(1)"
   ]
  },
  {
   "cell_type": "markdown",
   "metadata": {},
   "source": [
    "#### Check data size"
   ]
  },
  {
   "cell_type": "code",
   "execution_count": 9,
   "metadata": {
    "button": false,
    "new_sheet": false,
    "run_control": {
     "read_only": false
    }
   },
   "outputs": [
    {
     "name": "stdout",
     "output_type": "stream",
     "text": [
      "\n",
      "Number of samples/rows : 1030\n"
     ]
    },
    {
     "data": {
      "text/plain": [
       "1029    32.4\n",
       "Name: Strength, dtype: float64"
      ]
     },
     "execution_count": 9,
     "metadata": {},
     "output_type": "execute_result"
    }
   ],
   "source": [
    "#TARGET - STRENGTH COLUMN\n",
    "shape = concrete_data.shape\n",
    "print('\\nNumber of samples/rows :', shape[0])\n",
    "target.tail(1)"
   ]
  },
  {
   "cell_type": "markdown",
   "metadata": {},
   "source": [
    "#### Develop Baseline Regression Model"
   ]
  },
  {
   "cell_type": "code",
   "execution_count": 10,
   "metadata": {
    "button": false,
    "new_sheet": false,
    "run_control": {
     "read_only": false
    }
   },
   "outputs": [],
   "source": [
    "#SET  VARIABLES FOR THE BASELINE MODEL\n",
    "nodes = 10\n",
    "output = 1\n",
    "\n",
    "# define base regression model\n",
    "def regression_model(nodes):\n",
    "    # create model\n",
    "    model = Sequential()\n",
    "    model.add(Dense(nodes, activation='relu', input_shape=(cols,))) #1 hidden layer , 10 nodes, relu activation\n",
    "    model.add(Dense(output)) #Output Layer\n",
    "        # compile model\n",
    "    model.compile(optimizer='adam', loss='mean_squared_error')\n",
    "    return model"
   ]
  },
  {
   "cell_type": "markdown",
   "metadata": {},
   "source": [
    "### Split Train/Test Data - Step 1"
   ]
  },
  {
   "cell_type": "code",
   "execution_count": 11,
   "metadata": {},
   "outputs": [],
   "source": [
    "#SET SEED A FIXED VALUE FOR REPRODUCITY\n",
    "import numpy\n",
    "seed = 7\n",
    "numpy.random.seed(seed)\n",
    "\n",
    "# Split Train/Test Data\n",
    "X = predictors\n",
    "y = target\n",
    "X_train, X_test, y_train, y_test = train_test_split(X, y, test_size=0.33, random_state=seed)\n",
    "train_test_split(y, shuffle=True);"
   ]
  },
  {
   "cell_type": "markdown",
   "metadata": {},
   "source": [
    "## Train and Evaluate Model - Steps 2,3 and\n",
    "## Iterations - Step 4"
   ]
  },
  {
   "cell_type": "markdown",
   "metadata": {
    "button": false,
    "new_sheet": false,
    "run_control": {
     "read_only": false
    }
   },
   "source": [
    "#### Define and compile baseline regression model"
   ]
  },
  {
   "cell_type": "code",
   "execution_count": 12,
   "metadata": {},
   "outputs": [],
   "source": [
    "nodes = 10\n",
    "output = 1\n",
    "\n",
    "# define base regression model\n",
    "def regression_model(nodes):\n",
    "    # create model\n",
    "    model = Sequential()\n",
    "    model.add(Dense(nodes, activation='relu', input_shape=(cols,))) #1 hidden layer , 10 nodes, relu activation\n",
    "    model.add(Dense(output)) #Output Layer\n",
    "    # compile model\n",
    "    model.compile(optimizer='adam', loss='mean_squared_error')\n",
    "    return model"
   ]
  },
  {
   "cell_type": "markdown",
   "metadata": {},
   "source": [
    "#### Initialize the Model, Split Train/Test Data, Train Model, Evaluate and List MSE"
   ]
  },
  {
   "cell_type": "code",
   "execution_count": 13,
   "metadata": {},
   "outputs": [
    {
     "name": "stdout",
     "output_type": "stream",
     "text": [
      "Iteration 50 ..... Training is in progress.\n",
      "Training is complete for 50 iterations! \n"
     ]
    },
    {
     "data": {
      "text/plain": [
       "array([ 279.99236357,  247.89050096,  720.30463716,  488.83294331,\n",
       "        232.56003187,  394.85713196,  194.87462188,  899.32135858,\n",
       "        200.04882582,  654.08405556,  157.22002486, 1053.42808054,\n",
       "        115.82157892,   97.25634733,  129.30595487,  192.34731438,\n",
       "        155.39402866,  117.24422311,  503.44131794,  126.70112845,\n",
       "        399.12091731,  125.27165896,  160.51155947,  146.35725777,\n",
       "        287.65907958,  453.15361998,  382.91148044,  118.69501553,\n",
       "        189.62274257,  117.35505357,  233.45046889,  160.78268117,\n",
       "        166.02456392,  349.64312622,  527.41795818,  295.16718212,\n",
       "        164.44013185,  948.85305288,  162.84821266,  144.36308039,\n",
       "        110.83721426,  459.55134484,  480.19582623,  121.57304691,\n",
       "        119.61385259,  133.5066676 ,   86.05790911,  167.42305963,\n",
       "        130.42567071,  211.15881599])"
      ]
     },
     "execution_count": 13,
     "metadata": {},
     "output_type": "execute_result"
    }
   ],
   "source": [
    "#USED TO MONITOR OUTPUT IN A SINGLE LINE\n",
    "from IPython.display import display, clear_output\n",
    "\n",
    "#SET VARIABLES FOR THE ASSIGNMENTS THAT WILL CHANGE IN ASSIGNMENTS\n",
    "epochs = 50\n",
    "b = 32\n",
    "Alist = []\n",
    "\n",
    "#SET SEED A FIXED VALUE FOR REPRODUCITY\n",
    "import numpy\n",
    "seed = 7\n",
    "numpy.random.seed(seed)\n",
    "\n",
    "#SET THE PROGRESS COUNTDOWN n\n",
    "n = 0\n",
    "iterations = 50\n",
    "i = 0\n",
    "\n",
    "# HERE WE GO!\n",
    "for i in range(iterations):\n",
    "    \n",
    "    #To monitor will set up a countER\n",
    "    clear_output(wait=True)            # Print and \"overwrite\" all print statements sequentially\n",
    "    n = i + 1                          # Counter less the index for report\n",
    "    print(\"Iteration {} \".format(n) + \"..... Training is in progress.\")\n",
    "        \n",
    "#Initialize the model\n",
    "    model = regression_model(nodes)\n",
    "\n",
    "# Split Train/Test Data\n",
    "    X = predictors\n",
    "    y = target\n",
    "    X_train, X_test, y_train, y_test = train_test_split(X, y, test_size=0.33, random_state=seed)\n",
    "    train_test_split(y, shuffle=True)\n",
    "\n",
    "# Train / fit the model\n",
    "    model.fit(X, y, validation_split=0.3, epochs=epochs, batch_size=b, verbose=0, shuffle=True)\n",
    "    prediction = model.predict(X)\n",
    "    prediction\n",
    "        \n",
    "# Calculate MSE of EACH iteration\n",
    "    mse = mean_squared_error(target,prediction)\n",
    "\n",
    "# Create a list of MSE's, add each one to a list\n",
    "    Alist.append(mse)\n",
    "    \n",
    "result = np.array(Alist) #array needed for numpy evaluation\n",
    "print (\"Training is complete for {} iterations! \".format(n))\n",
    "result"
   ]
  },
  {
   "cell_type": "markdown",
   "metadata": {},
   "source": [
    "### A5. Final Report\n",
    "Calculate and print mean and standard deviation of the mean squared errors of each iteration  "
   ]
  },
  {
   "cell_type": "code",
   "execution_count": 14,
   "metadata": {},
   "outputs": [
    {
     "name": "stdout",
     "output_type": "stream",
     "text": [
      "FINAL REPORT:\n",
      "MSE Mean: 290.298\n",
      "MSE Standard Deviation: 228.731\n"
     ]
    }
   ],
   "source": [
    "mse_mean = (numpy.mean(result))\n",
    "mse_stddev = (numpy.std(Alist))\n",
    "\n",
    "print(\"FINAL REPORT:\")\n",
    "print(\"MSE Mean: %.3f\" % (mse_mean))\n",
    "print(\"MSE Standard Deviation: %.3f\" % (mse_stddev))"
   ]
  },
  {
   "cell_type": "markdown",
   "metadata": {},
   "source": [
    "### Part A Observations\n",
    "Mean squared errors were very erratic and high. \n",
    "At around 12 iterations they had a steep drop and continued to have \n",
    "improved accuracy although very high error rate"
   ]
  },
  {
   "cell_type": "code",
   "execution_count": 15,
   "metadata": {},
   "outputs": [
    {
     "data": {
      "image/png": "[encoded data removed]",
      "text/plain": [
       "<Figure size 432x288 with 1 Axes>"
      ]
     },
     "metadata": {
      "needs_background": "light"
     },
     "output_type": "display_data"
    }
   ],
   "source": [
    "import matplotlib.pyplot as plt\n",
    "from matplotlib import pyplot\n",
    "%matplotlib inline\n",
    "\n",
    "plt.plot(Alist, label= 'raw data', color= 'red')\n",
    "plt.ylabel('MSE')\n",
    "plt.xlabel('Iterations')\n",
    "plt.title('MSE (50 epochs/50 iterations)')\n",
    "plt.legend(loc = 'best')\n",
    "plt.savefig('fig-msePartA.png')\n",
    "plt.show()"
   ]
  },
  {
   "cell_type": "code",
   "execution_count": 18,
   "metadata": {},
   "outputs": [
    {
     "data": {
      "image/png": "[encoded data removed]",
      "text/plain": [
       "<Figure size 432x288 with 1 Axes>"
      ]
     },
     "metadata": {
      "needs_background": "light"
     },
     "output_type": "display_data"
    }
   ],
   "source": [
    "pyplot.hist(result, color='red')\n",
    "plt.savefig('fig-msePartA-hist.png')\n",
    "pyplot.show()"
   ]
  },
  {
   "cell_type": "code",
   "execution_count": null,
   "metadata": {},
   "outputs": [],
   "source": []
  }
 ],
 "metadata": {
  "kernelspec": {
   "display_name": "Python",
   "language": "python",
   "name": "conda-env-python-py"
  },
  "language_info": {
   "codemirror_mode": {
    "name": "ipython",
    "version": 3
   },
   "file_extension": ".py",
   "mimetype": "text/x-python",
   "name": "python",
   "nbconvert_exporter": "python",
   "pygments_lexer": "ipython3",
   "version": "3.6.10"
  }
 },
 "nbformat": 4,
 "nbformat_minor": 4
}
